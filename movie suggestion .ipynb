{
 "cells": [
  {
   "cell_type": "code",
   "execution_count": null,
   "id": "acd39f6c",
   "metadata": {},
   "outputs": [],
   "source": [
    "import pandas as pd"
   ]
  },
  {
   "cell_type": "code",
   "execution_count": null,
   "id": "00f89b4c",
   "metadata": {},
   "outputs": [],
   "source": [
    "movie = pd.read_csv('movies.csv')\n",
    "movie.head()"
   ]
  },
  {
   "cell_type": "markdown",
   "id": "c630c374",
   "metadata": {},
   "source": [
    "## droping the unnecessary columns from the table\n"
   ]
  },
  {
   "cell_type": "code",
   "execution_count": null,
   "id": "f9b54e30",
   "metadata": {},
   "outputs": [],
   "source": [
    "x = movie.drop(['rating','writer','director','votes','score','star','country','budget','gross','company','runtime','released'],axis=1)"
   ]
  },
  {
   "cell_type": "code",
   "execution_count": null,
   "id": "6d37ba21",
   "metadata": {},
   "outputs": [],
   "source": [
    "x.head(10)"
   ]
  },
  {
   "cell_type": "code",
   "execution_count": null,
   "id": "36d73e50",
   "metadata": {},
   "outputs": [],
   "source": [
    "y = x['genre'].value_counts()\n",
    "y"
   ]
  },
  {
   "cell_type": "markdown",
   "id": "df56c1ec",
   "metadata": {},
   "source": [
    "## Storing the movies having genre is Comedy"
   ]
  },
  {
   "cell_type": "code",
   "execution_count": null,
   "id": "3862ea7e",
   "metadata": {},
   "outputs": [],
   "source": [
    "y= x[x['genre']=='Comedy']\n",
    "y"
   ]
  },
  {
   "cell_type": "code",
   "execution_count": null,
   "id": "71d8348f",
   "metadata": {
    "scrolled": false
   },
   "outputs": [],
   "source": [
    "Comedy_movie = x.loc[x['genre'] == 'Comedy', 'name'].tolist()\n",
    "Comedy_movie"
   ]
  },
  {
   "cell_type": "code",
   "execution_count": null,
   "id": "b4a91200",
   "metadata": {},
   "outputs": [],
   "source": [
    "Action_movie = x.loc[x['genre'] == 'Action', 'name'].tolist()\n",
    "Action_movie"
   ]
  },
  {
   "cell_type": "code",
   "execution_count": null,
   "id": "e4c6ea57",
   "metadata": {},
   "outputs": [],
   "source": [
    "Drama_movie = x.loc[x['genre'] == 'Drama', 'name'].tolist()\n",
    "Drama_movie"
   ]
  },
  {
   "cell_type": "code",
   "execution_count": null,
   "id": "045bd98d",
   "metadata": {},
   "outputs": [],
   "source": [
    "Crime_movie = x.loc[x['genre'] == 'Crime', 'name'].tolist()\n",
    "Crime_movie"
   ]
  },
  {
   "cell_type": "code",
   "execution_count": null,
   "id": "88fd3855",
   "metadata": {},
   "outputs": [],
   "source": [
    "Biography_movie = x.loc[x['genre'] == 'Biography', 'name'].tolist()\n",
    "Biography_movie"
   ]
  },
  {
   "cell_type": "code",
   "execution_count": null,
   "id": "7e0ec4a7",
   "metadata": {},
   "outputs": [],
   "source": [
    "Adventure_movie = x.loc[x['genre'] == 'Adventure', 'name'].tolist()\n",
    "Adventure_movie"
   ]
  },
  {
   "cell_type": "code",
   "execution_count": null,
   "id": "cc0dea09",
   "metadata": {},
   "outputs": [],
   "source": [
    "Animation_movie = x.loc[x['genre'] == 'Animation', 'name'].tolist()\n",
    "Animation_movie"
   ]
  },
  {
   "cell_type": "code",
   "execution_count": null,
   "id": "91e4a408",
   "metadata": {},
   "outputs": [],
   "source": [
    "Horror_movie = x.loc[x['genre'] == 'Horror', 'name'].tolist()\n",
    "Horror_movie"
   ]
  },
  {
   "cell_type": "code",
   "execution_count": null,
   "id": "b65ed521",
   "metadata": {},
   "outputs": [],
   "source": [
    "genres_to_exclude = ['Comedy', 'Action', 'Drama', 'Animation', 'Adventure', 'Biography', 'Crime','Horror']\n",
    "y8 = x[~x['genre'].isin(genres_to_exclude)]\n"
   ]
  },
  {
   "cell_type": "code",
   "execution_count": null,
   "id": "db310df3",
   "metadata": {},
   "outputs": [],
   "source": [
    "y8['genre'].value_counts()"
   ]
  },
  {
   "cell_type": "markdown",
   "id": "8600e002",
   "metadata": {},
   "source": [
    "## Songs importing "
   ]
  },
  {
   "cell_type": "code",
   "execution_count": null,
   "id": "04e5e30b",
   "metadata": {},
   "outputs": [],
   "source": [
    "import pandas as ps"
   ]
  },
  {
   "cell_type": "code",
   "execution_count": null,
   "id": "f767c4ff",
   "metadata": {},
   "outputs": [],
   "source": [
    "songs = pd.read_csv('spotify_songs.csv')"
   ]
  },
  {
   "cell_type": "code",
   "execution_count": null,
   "id": "d331f5c6",
   "metadata": {},
   "outputs": [],
   "source": [
    "songs.head(10)"
   ]
  },
  {
   "cell_type": "code",
   "execution_count": null,
   "id": "0daff3b7",
   "metadata": {},
   "outputs": [],
   "source": [
    "songs.columns"
   ]
  },
  {
   "cell_type": "code",
   "execution_count": null,
   "id": "9c2c2502",
   "metadata": {},
   "outputs": [],
   "source": [
    "S1 = songs.drop(['track_id', 'track_popularity',\n",
    "       'track_album_id', 'track_album_name', 'track_album_release_date',\n",
    "       'playlist_name', 'playlist_id', 'playlist_subgenre',\n",
    "       'danceability', 'energy', 'key', 'loudness', 'mode', 'speechiness',\n",
    "       'acousticness', 'instrumentalness', 'liveness', 'valence', 'tempo',\n",
    "       'duration_ms'],axis=1)"
   ]
  },
  {
   "cell_type": "code",
   "execution_count": null,
   "id": "6eca01a5",
   "metadata": {},
   "outputs": [],
   "source": [
    "S1"
   ]
  },
  {
   "cell_type": "code",
   "execution_count": null,
   "id": "6f774177",
   "metadata": {},
   "outputs": [],
   "source": [
    "SS = S1['playlist_genre'].value_counts()\n",
    "SS"
   ]
  },
  {
   "cell_type": "code",
   "execution_count": null,
   "id": "735381f9",
   "metadata": {},
   "outputs": [],
   "source": [
    "import pandas as pd\n",
    "import random\n",
    "from nltk.sentiment import SentimentIntensityAnalyzer\n",
    "\n",
    "# Define sentiment analysis function\n",
    "def perform_sentiment_analysis(text):\n",
    "    sia = SentimentIntensityAnalyzer()\n",
    "    sentiment_score = sia.polarity_scores(text)['compound']\n",
    "\n",
    "    if sentiment_score >= 0.05:\n",
    "        return \"Positive\"\n",
    "    elif sentiment_score <= -0.05:\n",
    "        return \"Negative\"\n",
    "    else:\n",
    "        return \"Neutral\"\n",
    "\n",
    "# Load movie data\n",
    "movies_df = pd.read_csv('movies.csv')\n",
    "\n",
    "# Define entertainment suggestion function based on sentiment\n",
    "def suggest_movie_based_on_sentiment(sentiment):\n",
    "    if sentiment == \"Positive\":\n",
    "        comedy_movies = movies_df[movies_df['genre'] == 'Comedy']['name'].tolist()\n",
    "        animation_movies = movies_df[movies_df['genre'] == 'Animation']['name'].tolist()\n",
    "        if comedy_movies or animation_movies:\n",
    "            return random.choice(comedy_movies + animation_movies)\n",
    "        else:\n",
    "            return \"No suitable movies found for positive sentiment.\"\n",
    "    elif sentiment == \"Negative\":\n",
    "        horror_movies = movies_df[movies_df['genre'] == 'Horror']['name'].tolist()\n",
    "        if horror_movies:\n",
    "            return random.choice(horror_movies)\n",
    "        else:\n",
    "            return \"No suitable movies found for negative sentiment.\"\n",
    "    else:\n",
    "        action_movies = movies_df[movies_df['genre'] == 'Action']['name'].tolist()\n",
    "        biography_movies = movies_df[movies_df['genre'] == 'Biography']['name'].tolist()\n",
    "        if action_movies or biography_movies:\n",
    "            return random.choice(action_movies + biography_movies)\n",
    "        else:\n",
    "            return \"No suitable movies found for neutral sentiment.\"\n",
    "\n",
    "# Example of using sentiment analysis and suggesting a movie based on mood\n",
    "user_input_text = input(\"How was your day? Tell me about it: \")\n",
    "user_sentiment = perform_sentiment_analysis(user_input_text)\n",
    "suggested_movie = suggest_movie_based_on_sentiment(user_sentiment)\n",
    "\n",
    "print(\"Your mood:\", user_sentiment)\n",
    "print(\"Suggested Movie:\", suggested_movie)\n"
   ]
  },
  {
   "cell_type": "code",
   "execution_count": null,
   "id": "e50a45f4",
   "metadata": {},
   "outputs": [],
   "source": [
    "import pandas as pd\n",
    "import random\n",
    "from nltk.sentiment import SentimentIntensityAnalyzer\n",
    "\n",
    "# Define sentiment analysis function\n",
    "def perform_sentiment_analysis(text):\n",
    "    sia = SentimentIntensityAnalyzer()\n",
    "    sentiment_score = sia.polarity_scores(text)['compound']\n",
    "\n",
    "    if sentiment_score >= 0.05:\n",
    "        return \"Positive\"\n",
    "    elif sentiment_score <= -0.05:\n",
    "        return \"Negative\"\n",
    "    else:\n",
    "        return \"Neutral\"\n",
    "\n",
    "# Load movie data\n",
    "movies_df = pd.read_csv('movies.csv')\n",
    "\n",
    "# Define entertainment suggestion function based on sentiment\n",
    "def suggest_movie_based_on_sentiment(sentiment):\n",
    "    if sentiment == \"Positive\":\n",
    "        comedy_movies = movies_df[movies_df['genre'] == 'Comedy']\n",
    "        animation_movies = movies_df[movies_df['genre'] == 'Animation']\n",
    "        suitable_movies = pd.concat([comedy_movies, animation_movies])\n",
    "    elif sentiment == \"Negative\":\n",
    "        suitable_movies = movies_df[movies_df['genre'] == 'Horror']\n",
    "    else:\n",
    "        action_movies = movies_df[movies_df['genre'] == 'Action']\n",
    "        biography_movies = movies_df[movies_df['genre'] == 'Biography']\n",
    "        suitable_movies = pd.concat([action_movies, biography_movies])\n",
    "\n",
    "    if not suitable_movies.empty:\n",
    "        selected_movie = suitable_movies.sample(1)\n",
    "        movie_name = selected_movie['name'].values[0]\n",
    "        release_year = selected_movie['year'].values[0]\n",
    "        return f\"{movie_name} Released in {release_year}\"\n",
    "    else:\n",
    "        return f\"No suitable movies found for {sentiment.lower()} sentiment.\"\n",
    "\n",
    "# Example of using sentiment analysis and suggesting a movie based on mood\n",
    "user_input_text = input(\"How was your day? Tell me about it: \")\n",
    "user_sentiment = perform_sentiment_analysis(user_input_text)\n",
    "suggested_movie = suggest_movie_based_on_sentiment(user_sentiment)\n",
    "\n",
    "print(\"I think you are in\", user_sentiment,'mood')\n",
    "print(\"i suggest you to see\", suggested_movie)\n"
   ]
  },
  {
   "cell_type": "code",
   "execution_count": null,
   "id": "47e628ba",
   "metadata": {},
   "outputs": [],
   "source": []
  }
 ],
 "metadata": {
  "kernelspec": {
   "display_name": "Python 3 (ipykernel)",
   "language": "python",
   "name": "python3"
  },
  "language_info": {
   "codemirror_mode": {
    "name": "ipython",
    "version": 3
   },
   "file_extension": ".py",
   "mimetype": "text/x-python",
   "name": "python",
   "nbconvert_exporter": "python",
   "pygments_lexer": "ipython3",
   "version": "3.11.5"
  }
 },
 "nbformat": 4,
 "nbformat_minor": 5
}
